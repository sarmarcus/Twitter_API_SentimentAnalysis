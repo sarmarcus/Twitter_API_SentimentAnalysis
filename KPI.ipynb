{
 "cells": [
  {
   "cell_type": "code",
   "execution_count": 3,
   "metadata": {},
   "outputs": [],
   "source": [
    "# General:\n",
    "import tweepy           # To consume Twitter's API\n",
    "import pandas as piid     # To handle data\n",
    "import numpy as np      # For number computing\n",
    "\n",
    "# For plotting and visualization:\n",
    "from IPython.display import display\n",
    "import matplotlib.pyplot as plt\n",
    "import seaborn as sns\n",
    "%matplotlib inline"
   ]
  },
  {
   "cell_type": "code",
   "execution_count": 4,
   "metadata": {},
   "outputs": [],
   "source": [
    "#consumer_key=\"Ev93iW0STr4EymlrqiImSE9yx\"\n",
    "consumer_key = \"aHtGWhDgKtBTfohXBe9gMdUgh\"\n",
    "\n",
    "#consumer_secret=\"xXwORVl6WDjjAIZqhfca4xswBuLs4JQ4EIsWHdfwLay3wdQa5j\"\n",
    "consumer_secret=\"pSpOjgCvKcoW9ZmLtfrzKk4JpA7604VLlA0N5Thz2CvPEMk344\"\n",
    "\n",
    "#access_token=\"1037717238525190144-m88Se0GNRFoRb1o00YybdOTXlKCLMG\"\n",
    "access_token=\"710845973400915968-rexTM2eE79GX0PvX10Ervme2pbMTXFE\"\n",
    "\n",
    "#access_token_secret=\"u5HI3J7ENvk7oOughDKZQKziBvxIg3NZ0RSSalG2HZMW4\"\n",
    "access_token_secret=\"9jC9udCr8GAXqLzvA8WAKJG8VvchAVl8HQWziF3oaIRq8\"\n",
    "\n",
    "auth = tweepy.OAuthHandler(consumer_key, consumer_secret)\n",
    "auth.set_access_token(access_token, access_token_secret)\n",
    "\n",
    "api = tweepy.API(auth)"
   ]
  },
  {
   "cell_type": "code",
   "execution_count": 5,
   "metadata": {},
   "outputs": [
    {
     "name": "stdout",
     "output_type": "stream",
     "text": [
      "Number of tweets extracted: 200.\n",
      "\n",
      "5 recent tweets:\n",
      "\n",
      "NBC News incorrectly reported (as usual) that I was limiting the FBI investigation of Judge Kavanaugh, and witnesse… https://t.co/lhsF1IAabe\n",
      "\n",
      "Thank you West Virginia - I love you! https://t.co/Ou2umCfKp9\n",
      "\n",
      "https://t.co/BxlF4grr9k\n",
      "\n",
      "Heading to West Virginia now. Big Rally. Will be live on @FoxNews tonight. Long lines, but will be great!\n",
      "\n",
      "Senator Richard Blumenthal must talk about his fraudulent service in Vietnam, where for 12 years he told the people… https://t.co/EAw5lZrDLJ\n",
      "\n"
     ]
    }
   ],
   "source": [
    "# We create a tweet list as follows:\n",
    "tweets = api.user_timeline(screen_name=\"realDonaldTrump\", count=200)\n",
    "print(\"Number of tweets extracted: {}.\\n\".format(len(tweets)))\n",
    "\n",
    "# We print the most recent 5 tweets:\n",
    "print(\"5 recent tweets:\\n\")\n",
    "for tweet in tweets[:5]:\n",
    "    print(tweet.text)\n",
    "    print()"
   ]
  },
  {
   "cell_type": "code",
   "execution_count": 6,
   "metadata": {},
   "outputs": [
    {
     "data": {
      "text/html": [
       "<div>\n",
       "<style scoped>\n",
       "    .dataframe tbody tr th:only-of-type {\n",
       "        vertical-align: middle;\n",
       "    }\n",
       "\n",
       "    .dataframe tbody tr th {\n",
       "        vertical-align: top;\n",
       "    }\n",
       "\n",
       "    .dataframe thead th {\n",
       "        text-align: right;\n",
       "    }\n",
       "</style>\n",
       "<table border=\"1\" class=\"dataframe\">\n",
       "  <thead>\n",
       "    <tr style=\"text-align: right;\">\n",
       "      <th></th>\n",
       "      <th>Tweets</th>\n",
       "    </tr>\n",
       "  </thead>\n",
       "  <tbody>\n",
       "    <tr>\n",
       "      <th>0</th>\n",
       "      <td>NBC News incorrectly reported (as usual) that ...</td>\n",
       "    </tr>\n",
       "    <tr>\n",
       "      <th>1</th>\n",
       "      <td>Thank you West Virginia - I love you! https://...</td>\n",
       "    </tr>\n",
       "    <tr>\n",
       "      <th>2</th>\n",
       "      <td>https://t.co/BxlF4grr9k</td>\n",
       "    </tr>\n",
       "    <tr>\n",
       "      <th>3</th>\n",
       "      <td>Heading to West Virginia now. Big Rally. Will ...</td>\n",
       "    </tr>\n",
       "    <tr>\n",
       "      <th>4</th>\n",
       "      <td>Senator Richard Blumenthal must talk about his...</td>\n",
       "    </tr>\n",
       "    <tr>\n",
       "      <th>5</th>\n",
       "      <td>Just started, tonight, our 7th FBI investigati...</td>\n",
       "    </tr>\n",
       "    <tr>\n",
       "      <th>6</th>\n",
       "      <td>Judge Kavanaugh showed America exactly why I n...</td>\n",
       "    </tr>\n",
       "    <tr>\n",
       "      <th>7</th>\n",
       "      <td>https://t.co/9o5gZlJiTd</td>\n",
       "    </tr>\n",
       "    <tr>\n",
       "      <th>8</th>\n",
       "      <td>Join me this Saturday in Wheeling, West Virgin...</td>\n",
       "    </tr>\n",
       "    <tr>\n",
       "      <th>9</th>\n",
       "      <td>RT @WhiteHouse: President Trump and Prime Mini...</td>\n",
       "    </tr>\n",
       "  </tbody>\n",
       "</table>\n",
       "</div>"
      ],
      "text/plain": [
       "                                              Tweets\n",
       "0  NBC News incorrectly reported (as usual) that ...\n",
       "1  Thank you West Virginia - I love you! https://...\n",
       "2                            https://t.co/BxlF4grr9k\n",
       "3  Heading to West Virginia now. Big Rally. Will ...\n",
       "4  Senator Richard Blumenthal must talk about his...\n",
       "5  Just started, tonight, our 7th FBI investigati...\n",
       "6  Judge Kavanaugh showed America exactly why I n...\n",
       "7                            https://t.co/9o5gZlJiTd\n",
       "8  Join me this Saturday in Wheeling, West Virgin...\n",
       "9  RT @WhiteHouse: President Trump and Prime Mini..."
      ]
     },
     "metadata": {},
     "output_type": "display_data"
    }
   ],
   "source": [
    "# We create a pandas dataframe as follows:\n",
    "data = pd.DataFrame(data=[tweet.text for tweet in tweets], columns=['Tweets'])\n",
    "\n",
    "# We display the first 10 elements of the dataframe:\n",
    "display(data.head(10))"
   ]
  },
  {
   "cell_type": "code",
   "execution_count": 7,
   "metadata": {},
   "outputs": [
    {
     "name": "stdout",
     "output_type": "stream",
     "text": [
      "['__class__', '__delattr__', '__dict__', '__dir__', '__doc__', '__eq__', '__format__', '__ge__', '__getattribute__', '__getstate__', '__gt__', '__hash__', '__init__', '__init_subclass__', '__le__', '__lt__', '__module__', '__ne__', '__new__', '__reduce__', '__reduce_ex__', '__repr__', '__setattr__', '__sizeof__', '__str__', '__subclasshook__', '__weakref__', '_api', '_json', 'author', 'contributors', 'coordinates', 'created_at', 'destroy', 'entities', 'favorite', 'favorite_count', 'favorited', 'geo', 'id', 'id_str', 'in_reply_to_screen_name', 'in_reply_to_status_id', 'in_reply_to_status_id_str', 'in_reply_to_user_id', 'in_reply_to_user_id_str', 'is_quote_status', 'lang', 'parse', 'parse_list', 'place', 'retweet', 'retweet_count', 'retweeted', 'retweets', 'source', 'source_url', 'text', 'truncated', 'user']\n"
     ]
    }
   ],
   "source": [
    "# Internal methods of a single tweet object:\n",
    "print(dir(tweets[0]))"
   ]
  },
  {
   "cell_type": "code",
   "execution_count": 8,
   "metadata": {},
   "outputs": [
    {
     "name": "stdout",
     "output_type": "stream",
     "text": [
      "1046230634103025664\n",
      "2018-09-30 02:49:55\n",
      "Twitter for iPhone\n",
      "89091\n",
      "27681\n",
      "None\n",
      "None\n",
      "{'hashtags': [], 'symbols': [], 'user_mentions': [], 'urls': [{'url': 'https://t.co/lhsF1IAabe', 'expanded_url': 'https://twitter.com/i/web/status/1046230634103025664', 'display_url': 'twitter.com/i/web/status/1…', 'indices': [117, 140]}]}\n"
     ]
    }
   ],
   "source": [
    "# We print info from the first tweet:\n",
    "print(tweets[0].id)\n",
    "print(tweets[0].created_at)\n",
    "print(tweets[0].source)\n",
    "print(tweets[0].favorite_count)\n",
    "print(tweets[0].retweet_count)\n",
    "print(tweets[0].geo)\n",
    "print(tweets[0].coordinates)\n",
    "print(tweets[0].entities)"
   ]
  },
  {
   "cell_type": "code",
   "execution_count": 9,
   "metadata": {},
   "outputs": [],
   "source": [
    "# We add relevant data:\n",
    "data['len']  = np.array([len(tweet.text) for tweet in tweets])\n",
    "data['ID']   = np.array([tweet.id for tweet in tweets])\n",
    "data['Date'] = np.array([tweet.created_at for tweet in tweets])\n",
    "data['Source'] = np.array([tweet.source for tweet in tweets])\n",
    "data['Likes']  = np.array([tweet.favorite_count for tweet in tweets])\n",
    "data['RTs']    = np.array([tweet.retweet_count for tweet in tweets])"
   ]
  },
  {
   "cell_type": "code",
   "execution_count": 10,
   "metadata": {},
   "outputs": [
    {
     "data": {
      "text/html": [
       "<div>\n",
       "<style scoped>\n",
       "    .dataframe tbody tr th:only-of-type {\n",
       "        vertical-align: middle;\n",
       "    }\n",
       "\n",
       "    .dataframe tbody tr th {\n",
       "        vertical-align: top;\n",
       "    }\n",
       "\n",
       "    .dataframe thead th {\n",
       "        text-align: right;\n",
       "    }\n",
       "</style>\n",
       "<table border=\"1\" class=\"dataframe\">\n",
       "  <thead>\n",
       "    <tr style=\"text-align: right;\">\n",
       "      <th></th>\n",
       "      <th>Tweets</th>\n",
       "      <th>len</th>\n",
       "      <th>ID</th>\n",
       "      <th>Date</th>\n",
       "      <th>Source</th>\n",
       "      <th>Likes</th>\n",
       "      <th>RTs</th>\n",
       "    </tr>\n",
       "  </thead>\n",
       "  <tbody>\n",
       "    <tr>\n",
       "      <th>0</th>\n",
       "      <td>NBC News incorrectly reported (as usual) that ...</td>\n",
       "      <td>140</td>\n",
       "      <td>1046230634103025664</td>\n",
       "      <td>2018-09-30 02:49:55</td>\n",
       "      <td>Twitter for iPhone</td>\n",
       "      <td>89091</td>\n",
       "      <td>27681</td>\n",
       "    </tr>\n",
       "    <tr>\n",
       "      <th>1</th>\n",
       "      <td>Thank you West Virginia - I love you! https://...</td>\n",
       "      <td>61</td>\n",
       "      <td>1046201064469549056</td>\n",
       "      <td>2018-09-30 00:52:25</td>\n",
       "      <td>Twitter for iPhone</td>\n",
       "      <td>50657</td>\n",
       "      <td>11313</td>\n",
       "    </tr>\n",
       "    <tr>\n",
       "      <th>2</th>\n",
       "      <td>https://t.co/BxlF4grr9k</td>\n",
       "      <td>23</td>\n",
       "      <td>1046200796944191499</td>\n",
       "      <td>2018-09-30 00:51:22</td>\n",
       "      <td>Twitter for iPhone</td>\n",
       "      <td>38437</td>\n",
       "      <td>10485</td>\n",
       "    </tr>\n",
       "    <tr>\n",
       "      <th>3</th>\n",
       "      <td>Heading to West Virginia now. Big Rally. Will ...</td>\n",
       "      <td>105</td>\n",
       "      <td>1046136712987103241</td>\n",
       "      <td>2018-09-29 20:36:43</td>\n",
       "      <td>Twitter for iPhone</td>\n",
       "      <td>59489</td>\n",
       "      <td>12013</td>\n",
       "    </tr>\n",
       "    <tr>\n",
       "      <th>4</th>\n",
       "      <td>Senator Richard Blumenthal must talk about his...</td>\n",
       "      <td>140</td>\n",
       "      <td>1046135994267963392</td>\n",
       "      <td>2018-09-29 20:33:51</td>\n",
       "      <td>Twitter for iPhone</td>\n",
       "      <td>109817</td>\n",
       "      <td>36733</td>\n",
       "    </tr>\n",
       "    <tr>\n",
       "      <th>5</th>\n",
       "      <td>Just started, tonight, our 7th FBI investigati...</td>\n",
       "      <td>140</td>\n",
       "      <td>1045832351211835392</td>\n",
       "      <td>2018-09-29 00:27:17</td>\n",
       "      <td>Twitter for iPhone</td>\n",
       "      <td>167205</td>\n",
       "      <td>39434</td>\n",
       "    </tr>\n",
       "    <tr>\n",
       "      <th>6</th>\n",
       "      <td>Judge Kavanaugh showed America exactly why I n...</td>\n",
       "      <td>140</td>\n",
       "      <td>1045444544068812800</td>\n",
       "      <td>2018-09-27 22:46:17</td>\n",
       "      <td>Twitter for iPhone</td>\n",
       "      <td>316476</td>\n",
       "      <td>84701</td>\n",
       "    </tr>\n",
       "    <tr>\n",
       "      <th>7</th>\n",
       "      <td>https://t.co/9o5gZlJiTd</td>\n",
       "      <td>23</td>\n",
       "      <td>1045098909352235008</td>\n",
       "      <td>2018-09-26 23:52:51</td>\n",
       "      <td>Twitter for iPhone</td>\n",
       "      <td>75876</td>\n",
       "      <td>17150</td>\n",
       "    </tr>\n",
       "    <tr>\n",
       "      <th>8</th>\n",
       "      <td>Join me this Saturday in Wheeling, West Virgin...</td>\n",
       "      <td>114</td>\n",
       "      <td>1045052439521624067</td>\n",
       "      <td>2018-09-26 20:48:12</td>\n",
       "      <td>Twitter for iPhone</td>\n",
       "      <td>51984</td>\n",
       "      <td>14368</td>\n",
       "    </tr>\n",
       "    <tr>\n",
       "      <th>9</th>\n",
       "      <td>RT @WhiteHouse: President Trump and Prime Mini...</td>\n",
       "      <td>132</td>\n",
       "      <td>1045052203784962049</td>\n",
       "      <td>2018-09-26 20:47:16</td>\n",
       "      <td>Twitter for iPhone</td>\n",
       "      <td>0</td>\n",
       "      <td>7646</td>\n",
       "    </tr>\n",
       "  </tbody>\n",
       "</table>\n",
       "</div>"
      ],
      "text/plain": [
       "                                              Tweets  len  \\\n",
       "0  NBC News incorrectly reported (as usual) that ...  140   \n",
       "1  Thank you West Virginia - I love you! https://...   61   \n",
       "2                            https://t.co/BxlF4grr9k   23   \n",
       "3  Heading to West Virginia now. Big Rally. Will ...  105   \n",
       "4  Senator Richard Blumenthal must talk about his...  140   \n",
       "5  Just started, tonight, our 7th FBI investigati...  140   \n",
       "6  Judge Kavanaugh showed America exactly why I n...  140   \n",
       "7                            https://t.co/9o5gZlJiTd   23   \n",
       "8  Join me this Saturday in Wheeling, West Virgin...  114   \n",
       "9  RT @WhiteHouse: President Trump and Prime Mini...  132   \n",
       "\n",
       "                    ID                Date              Source   Likes    RTs  \n",
       "0  1046230634103025664 2018-09-30 02:49:55  Twitter for iPhone   89091  27681  \n",
       "1  1046201064469549056 2018-09-30 00:52:25  Twitter for iPhone   50657  11313  \n",
       "2  1046200796944191499 2018-09-30 00:51:22  Twitter for iPhone   38437  10485  \n",
       "3  1046136712987103241 2018-09-29 20:36:43  Twitter for iPhone   59489  12013  \n",
       "4  1046135994267963392 2018-09-29 20:33:51  Twitter for iPhone  109817  36733  \n",
       "5  1045832351211835392 2018-09-29 00:27:17  Twitter for iPhone  167205  39434  \n",
       "6  1045444544068812800 2018-09-27 22:46:17  Twitter for iPhone  316476  84701  \n",
       "7  1045098909352235008 2018-09-26 23:52:51  Twitter for iPhone   75876  17150  \n",
       "8  1045052439521624067 2018-09-26 20:48:12  Twitter for iPhone   51984  14368  \n",
       "9  1045052203784962049 2018-09-26 20:47:16  Twitter for iPhone       0   7646  "
      ]
     },
     "metadata": {},
     "output_type": "display_data"
    }
   ],
   "source": [
    "# Display of first 10 elements from dataframe:\n",
    "display(data.head(10))"
   ]
  },
  {
   "cell_type": "code",
   "execution_count": 11,
   "metadata": {},
   "outputs": [
    {
     "name": "stdout",
     "output_type": "stream",
     "text": [
      "The lenght's average in tweets: 118.985\n"
     ]
    }
   ],
   "source": [
    "# We extract the mean of lenghts:\n",
    "mean = np.mean(data['len'])\n",
    "\n",
    "print(\"The lenght's average in tweets: {}\".format(mean))"
   ]
  },
  {
   "cell_type": "code",
   "execution_count": 12,
   "metadata": {},
   "outputs": [
    {
     "name": "stdout",
     "output_type": "stream",
     "text": [
      "The tweet with more likes is: \n",
      "Judge Kavanaugh showed America exactly why I nominated him. His testimony was powerful, honest, and riveting. Democ… https://t.co/RYPP0I2x7P\n",
      "Number of likes: 316476\n",
      "140 characters.\n",
      "\n",
      "The tweet with more retweets is: \n",
      "Judge Kavanaugh showed America exactly why I nominated him. His testimony was powerful, honest, and riveting. Democ… https://t.co/RYPP0I2x7P\n",
      "Number of retweets: 84701\n",
      "140 characters.\n",
      "\n"
     ]
    }
   ],
   "source": [
    "# We extract the tweet with more FAVs and more RTs:\n",
    "\n",
    "fav_max = np.max(data['Likes'])\n",
    "rt_max  = np.max(data['RTs'])\n",
    "\n",
    "fav = data[data.Likes == fav_max].index[0]\n",
    "rt  = data[data.RTs == rt_max].index[0]\n",
    "\n",
    "# Max FAVs:\n",
    "print(\"The tweet with more likes is: \\n{}\".format(data['Tweets'][fav]))\n",
    "print(\"Number of likes: {}\".format(fav_max))\n",
    "print(\"{} characters.\\n\".format(data['len'][fav]))\n",
    "\n",
    "# Max RTs:\n",
    "print(\"The tweet with more retweets is: \\n{}\".format(data['Tweets'][rt]))\n",
    "print(\"Number of retweets: {}\".format(rt_max))\n",
    "print(\"{} characters.\\n\".format(data['len'][rt]))"
   ]
  },
  {
   "cell_type": "code",
   "execution_count": 13,
   "metadata": {},
   "outputs": [],
   "source": [
    "# We create time series for data:\n",
    "\n",
    "tlen = pd.Series(data=data['len'].values, index=data['Date'])\n",
    "tfav = pd.Series(data=data['Likes'].values, index=data['Date'])\n",
    "tret = pd.Series(data=data['RTs'].values, index=data['Date'])"
   ]
  },
  {
   "cell_type": "code",
   "execution_count": 22,
   "metadata": {},
   "outputs": [
    {
     "data": {
      "text/plain": [
       "Text(0.5,1,'Tweets frequency')"
      ]
     },
     "execution_count": 22,
     "metadata": {},
     "output_type": "execute_result"
    },
    {
     "data": {
      "image/png": "[encoded data removed]",
      "text/plain": [
       "<Figure size 1152x288 with 1 Axes>"
      ]
     },
     "metadata": {},
     "output_type": "display_data"
    }
   ],
   "source": [
    "# Lenghts along time:\n",
    "tlen.plot(figsize=(16,4), color='r');\n",
    "plt.title('Tweets frequency')"
   ]
  },
  {
   "cell_type": "code",
   "execution_count": 15,
   "metadata": {},
   "outputs": [
    {
     "data": {
      "image/png": "[encoded data removed]",
      "text/plain": [
       "<Figure size 1152x288 with 1 Axes>"
      ]
     },
     "metadata": {},
     "output_type": "display_data"
    }
   ],
   "source": [
    "# Likes vs retweets visualization:\n",
    "tfav.plot(figsize=(16,4), label=\"Likes\", legend=True)\n",
    "tret.plot(figsize=(16,4), label=\"Retweets\", legend=True);"
   ]
  },
  {
   "cell_type": "code",
   "execution_count": 16,
   "metadata": {},
   "outputs": [
    {
     "name": "stdout",
     "output_type": "stream",
     "text": [
      "Creation of content sources:\n",
      "* Twitter for iPhone\n",
      "* Twitter for iPad\n"
     ]
    }
   ],
   "source": [
    "# We obtain all possible sources:\n",
    "sources = []\n",
    "for source in data['Source']:\n",
    "    if source not in sources:\n",
    "        sources.append(source)\n",
    "\n",
    "# We print sources list:\n",
    "print(\"Creation of content sources:\")\n",
    "for source in sources:\n",
    "    print(\"* {}\".format(source))"
   ]
  },
  {
   "cell_type": "code",
   "execution_count": 17,
   "metadata": {},
   "outputs": [
    {
     "data": {
      "image/png": "[encoded data removed]",
      "text/plain": [
       "<Figure size 432x432 with 1 Axes>"
      ]
     },
     "metadata": {},
     "output_type": "display_data"
    }
   ],
   "source": [
    "# We create a numpy vector mapped to labels:\n",
    "percent = np.zeros(len(sources))\n",
    "\n",
    "for source in data['Source']:\n",
    "    for index in range(len(sources)):\n",
    "        if source == sources[index]:\n",
    "            percent[index] += 1\n",
    "            pass\n",
    "\n",
    "percent /= 100\n",
    "\n",
    "# Pie chart:\n",
    "pie_chart = pd.Series(percent, index=sources, name='Sources')\n",
    "pie_chart.plot.pie(fontsize=11, autopct='%.2f', figsize=(6, 6));"
   ]
  },
  {
   "cell_type": "code",
   "execution_count": 18,
   "metadata": {},
   "outputs": [],
   "source": [
    "from textblob import TextBlob\n",
    "import re\n",
    "\n",
    "def clean_tweet(tweet):\n",
    "    '''\n",
    "    Utility function to clean the text in a tweet by removing \n",
    "    links and special characters using regex.\n",
    "    '''\n",
    "    return ' '.join(re.sub(\"(@[A-Za-z0-9]+)|([^0-9A-Za-z \\t])|(\\w+:\\/\\/\\S+)\", \" \", tweet).split())\n",
    "\n",
    "def analize_sentiment(tweet):\n",
    "    '''\n",
    "    Utility function to classify the polarity of a tweet\n",
    "    using textblob.\n",
    "    '''\n",
    "    analysis = TextBlob(clean_tweet(tweet))\n",
    "    if analysis.sentiment.polarity > 0:\n",
    "        return 1\n",
    "    elif analysis.sentiment.polarity == 0:\n",
    "        return 0\n",
    "    else:\n",
    "        return -1"
   ]
  },
  {
   "cell_type": "code",
   "execution_count": 19,
   "metadata": {},
   "outputs": [
    {
     "data": {
      "text/html": [
       "<div>\n",
       "<style scoped>\n",
       "    .dataframe tbody tr th:only-of-type {\n",
       "        vertical-align: middle;\n",
       "    }\n",
       "\n",
       "    .dataframe tbody tr th {\n",
       "        vertical-align: top;\n",
       "    }\n",
       "\n",
       "    .dataframe thead th {\n",
       "        text-align: right;\n",
       "    }\n",
       "</style>\n",
       "<table border=\"1\" class=\"dataframe\">\n",
       "  <thead>\n",
       "    <tr style=\"text-align: right;\">\n",
       "      <th></th>\n",
       "      <th>Tweets</th>\n",
       "      <th>len</th>\n",
       "      <th>ID</th>\n",
       "      <th>Date</th>\n",
       "      <th>Source</th>\n",
       "      <th>Likes</th>\n",
       "      <th>RTs</th>\n",
       "      <th>SA</th>\n",
       "    </tr>\n",
       "  </thead>\n",
       "  <tbody>\n",
       "    <tr>\n",
       "      <th>0</th>\n",
       "      <td>NBC News incorrectly reported (as usual) that ...</td>\n",
       "      <td>140</td>\n",
       "      <td>1046230634103025664</td>\n",
       "      <td>2018-09-30 02:49:55</td>\n",
       "      <td>Twitter for iPhone</td>\n",
       "      <td>89091</td>\n",
       "      <td>27681</td>\n",
       "      <td>-1</td>\n",
       "    </tr>\n",
       "    <tr>\n",
       "      <th>1</th>\n",
       "      <td>Thank you West Virginia - I love you! https://...</td>\n",
       "      <td>61</td>\n",
       "      <td>1046201064469549056</td>\n",
       "      <td>2018-09-30 00:52:25</td>\n",
       "      <td>Twitter for iPhone</td>\n",
       "      <td>50657</td>\n",
       "      <td>11313</td>\n",
       "      <td>1</td>\n",
       "    </tr>\n",
       "    <tr>\n",
       "      <th>2</th>\n",
       "      <td>https://t.co/BxlF4grr9k</td>\n",
       "      <td>23</td>\n",
       "      <td>1046200796944191499</td>\n",
       "      <td>2018-09-30 00:51:22</td>\n",
       "      <td>Twitter for iPhone</td>\n",
       "      <td>38437</td>\n",
       "      <td>10485</td>\n",
       "      <td>0</td>\n",
       "    </tr>\n",
       "    <tr>\n",
       "      <th>3</th>\n",
       "      <td>Heading to West Virginia now. Big Rally. Will ...</td>\n",
       "      <td>105</td>\n",
       "      <td>1046136712987103241</td>\n",
       "      <td>2018-09-29 20:36:43</td>\n",
       "      <td>Twitter for iPhone</td>\n",
       "      <td>59489</td>\n",
       "      <td>12013</td>\n",
       "      <td>1</td>\n",
       "    </tr>\n",
       "    <tr>\n",
       "      <th>4</th>\n",
       "      <td>Senator Richard Blumenthal must talk about his...</td>\n",
       "      <td>140</td>\n",
       "      <td>1046135994267963392</td>\n",
       "      <td>2018-09-29 20:33:51</td>\n",
       "      <td>Twitter for iPhone</td>\n",
       "      <td>109817</td>\n",
       "      <td>36733</td>\n",
       "      <td>0</td>\n",
       "    </tr>\n",
       "    <tr>\n",
       "      <th>5</th>\n",
       "      <td>Just started, tonight, our 7th FBI investigati...</td>\n",
       "      <td>140</td>\n",
       "      <td>1045832351211835392</td>\n",
       "      <td>2018-09-29 00:27:17</td>\n",
       "      <td>Twitter for iPhone</td>\n",
       "      <td>167205</td>\n",
       "      <td>39434</td>\n",
       "      <td>0</td>\n",
       "    </tr>\n",
       "    <tr>\n",
       "      <th>6</th>\n",
       "      <td>Judge Kavanaugh showed America exactly why I n...</td>\n",
       "      <td>140</td>\n",
       "      <td>1045444544068812800</td>\n",
       "      <td>2018-09-27 22:46:17</td>\n",
       "      <td>Twitter for iPhone</td>\n",
       "      <td>316476</td>\n",
       "      <td>84701</td>\n",
       "      <td>1</td>\n",
       "    </tr>\n",
       "    <tr>\n",
       "      <th>7</th>\n",
       "      <td>https://t.co/9o5gZlJiTd</td>\n",
       "      <td>23</td>\n",
       "      <td>1045098909352235008</td>\n",
       "      <td>2018-09-26 23:52:51</td>\n",
       "      <td>Twitter for iPhone</td>\n",
       "      <td>75876</td>\n",
       "      <td>17150</td>\n",
       "      <td>0</td>\n",
       "    </tr>\n",
       "    <tr>\n",
       "      <th>8</th>\n",
       "      <td>Join me this Saturday in Wheeling, West Virgin...</td>\n",
       "      <td>114</td>\n",
       "      <td>1045052439521624067</td>\n",
       "      <td>2018-09-26 20:48:12</td>\n",
       "      <td>Twitter for iPhone</td>\n",
       "      <td>51984</td>\n",
       "      <td>14368</td>\n",
       "      <td>0</td>\n",
       "    </tr>\n",
       "    <tr>\n",
       "      <th>9</th>\n",
       "      <td>RT @WhiteHouse: President Trump and Prime Mini...</td>\n",
       "      <td>132</td>\n",
       "      <td>1045052203784962049</td>\n",
       "      <td>2018-09-26 20:47:16</td>\n",
       "      <td>Twitter for iPhone</td>\n",
       "      <td>0</td>\n",
       "      <td>7646</td>\n",
       "      <td>1</td>\n",
       "    </tr>\n",
       "  </tbody>\n",
       "</table>\n",
       "</div>"
      ],
      "text/plain": [
       "                                              Tweets  len  \\\n",
       "0  NBC News incorrectly reported (as usual) that ...  140   \n",
       "1  Thank you West Virginia - I love you! https://...   61   \n",
       "2                            https://t.co/BxlF4grr9k   23   \n",
       "3  Heading to West Virginia now. Big Rally. Will ...  105   \n",
       "4  Senator Richard Blumenthal must talk about his...  140   \n",
       "5  Just started, tonight, our 7th FBI investigati...  140   \n",
       "6  Judge Kavanaugh showed America exactly why I n...  140   \n",
       "7                            https://t.co/9o5gZlJiTd   23   \n",
       "8  Join me this Saturday in Wheeling, West Virgin...  114   \n",
       "9  RT @WhiteHouse: President Trump and Prime Mini...  132   \n",
       "\n",
       "                    ID                Date              Source   Likes    RTs  \\\n",
       "0  1046230634103025664 2018-09-30 02:49:55  Twitter for iPhone   89091  27681   \n",
       "1  1046201064469549056 2018-09-30 00:52:25  Twitter for iPhone   50657  11313   \n",
       "2  1046200796944191499 2018-09-30 00:51:22  Twitter for iPhone   38437  10485   \n",
       "3  1046136712987103241 2018-09-29 20:36:43  Twitter for iPhone   59489  12013   \n",
       "4  1046135994267963392 2018-09-29 20:33:51  Twitter for iPhone  109817  36733   \n",
       "5  1045832351211835392 2018-09-29 00:27:17  Twitter for iPhone  167205  39434   \n",
       "6  1045444544068812800 2018-09-27 22:46:17  Twitter for iPhone  316476  84701   \n",
       "7  1045098909352235008 2018-09-26 23:52:51  Twitter for iPhone   75876  17150   \n",
       "8  1045052439521624067 2018-09-26 20:48:12  Twitter for iPhone   51984  14368   \n",
       "9  1045052203784962049 2018-09-26 20:47:16  Twitter for iPhone       0   7646   \n",
       "\n",
       "   SA  \n",
       "0  -1  \n",
       "1   1  \n",
       "2   0  \n",
       "3   1  \n",
       "4   0  \n",
       "5   0  \n",
       "6   1  \n",
       "7   0  \n",
       "8   0  \n",
       "9   1  "
      ]
     },
     "metadata": {},
     "output_type": "display_data"
    }
   ],
   "source": [
    "# We create a column with the result of the analysis:\n",
    "data['SA'] = np.array([ analize_sentiment(tweet) for tweet in data['Tweets'] ])\n",
    "\n",
    "# We display the updated dataframe with the new column:\n",
    "display(data.head(10))"
   ]
  },
  {
   "cell_type": "code",
   "execution_count": 20,
   "metadata": {},
   "outputs": [],
   "source": [
    "# We construct lists with classified tweets:\n",
    "\n",
    "pos_tweets = [ tweet for index, tweet in enumerate(data['Tweets']) if data['SA'][index] > 0]\n",
    "neu_tweets = [ tweet for index, tweet in enumerate(data['Tweets']) if data['SA'][index] == 0]\n",
    "neg_tweets = [ tweet for index, tweet in enumerate(data['Tweets']) if data['SA'][index] < 0]"
   ]
  },
  {
   "cell_type": "code",
   "execution_count": 21,
   "metadata": {},
   "outputs": [
    {
     "name": "stdout",
     "output_type": "stream",
     "text": [
      "Percentage of positive tweets: 55.5%\n",
      "Percentage of neutral tweets: 35.0%\n",
      "Percentage de negative tweets: 9.5%\n"
     ]
    }
   ],
   "source": [
    "# We print percentages:\n",
    "\n",
    "print(\"Percentage of positive tweets: {}%\".format(len(pos_tweets)*100/len(data['Tweets'])))\n",
    "print(\"Percentage of neutral tweets: {}%\".format(len(neu_tweets)*100/len(data['Tweets'])))\n",
    "print(\"Percentage de negative tweets: {}%\".format(len(neg_tweets)*100/len(data['Tweets'])))"
   ]
  },
  {
   "cell_type": "code",
   "execution_count": null,
   "metadata": {},
   "outputs": [],
   "source": []
  }
 ],
 "metadata": {
  "kernelspec": {
   "display_name": "Python 3",
   "language": "python",
   "name": "python3"
  },
  "language_info": {
   "codemirror_mode": {
    "name": "ipython",
    "version": 3
   },
   "file_extension": ".py",
   "mimetype": "text/x-python",
   "name": "python",
   "nbconvert_exporter": "python",
   "pygments_lexer": "ipython3",
   "version": "3.6.6"
  }
 },
 "nbformat": 4,
 "nbformat_minor": 2
}
